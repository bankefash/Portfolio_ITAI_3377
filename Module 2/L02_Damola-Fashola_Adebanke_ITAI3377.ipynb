{
 "cells": [
  {
   "cell_type": "markdown",
   "id": "0e993ade-2bac-4bff-8b2d-80cf9ca219de",
   "metadata": {},
   "source": [
    "# L02- Converting and Deploying AI Models using TensorFlow Lite\n",
    "### Option B - Practical "
   ]
  },
  {
   "cell_type": "markdown",
   "id": "15346d3d-267e-45ac-b74f-e44aedda1938",
   "metadata": {},
   "source": [
    "### Part 1: Setting Up the Development Environment\n",
    "#### Step 1: Verify Python and TensorFlow Installation"
   ]
  },
  {
   "cell_type": "code",
   "execution_count": 3,
   "id": "26601054-18e2-4fa5-b449-fa61f926479e",
   "metadata": {},
   "outputs": [
    {
     "name": "stdout",
     "output_type": "stream",
     "text": [
      "Python 3.12.7\n"
     ]
    }
   ],
   "source": [
    "!python --version "
   ]
  },
  {
   "cell_type": "code",
   "execution_count": 4,
   "id": "5dcd3a4c-d7d7-435e-b131-9654f774d420",
   "metadata": {},
   "outputs": [
    {
     "name": "stdout",
     "output_type": "stream",
     "text": [
      "Name: tensorflow\n",
      "Version: 2.18.0\n",
      "Summary: TensorFlow is an open source machine learning framework for everyone.\n",
      "Home-page: https://www.tensorflow.org/\n",
      "Author: Google Inc.\n",
      "Author-email: packages@tensorflow.org\n",
      "License: Apache 2.0\n",
      "Location: C:\\Users\\banke\\anaconda3\\Lib\\site-packages\n",
      "Requires: tensorflow-intel\n",
      "Required-by: \n"
     ]
    }
   ],
   "source": [
    "!pip show tensorflow"
   ]
  },
  {
   "cell_type": "code",
   "execution_count": 5,
   "id": "b252f881-c48c-4f10-813b-7440e5d34791",
   "metadata": {},
   "outputs": [
    {
     "name": "stdout",
     "output_type": "stream",
     "text": [
      "Requirement already satisfied: tensorflow in c:\\users\\banke\\anaconda3\\lib\\site-packages (2.18.0)\n",
      "Requirement already satisfied: tensorflow-intel==2.18.0 in c:\\users\\banke\\anaconda3\\lib\\site-packages (from tensorflow) (2.18.0)\n",
      "Requirement already satisfied: absl-py>=1.0.0 in c:\\users\\banke\\anaconda3\\lib\\site-packages (from tensorflow-intel==2.18.0->tensorflow) (2.1.0)\n",
      "Requirement already satisfied: astunparse>=1.6.0 in c:\\users\\banke\\anaconda3\\lib\\site-packages (from tensorflow-intel==2.18.0->tensorflow) (1.6.3)\n",
      "Requirement already satisfied: flatbuffers>=24.3.25 in c:\\users\\banke\\anaconda3\\lib\\site-packages (from tensorflow-intel==2.18.0->tensorflow) (25.1.24)\n",
      "Requirement already satisfied: gast!=0.5.0,!=0.5.1,!=0.5.2,>=0.2.1 in c:\\users\\banke\\anaconda3\\lib\\site-packages (from tensorflow-intel==2.18.0->tensorflow) (0.6.0)\n",
      "Requirement already satisfied: google-pasta>=0.1.1 in c:\\users\\banke\\anaconda3\\lib\\site-packages (from tensorflow-intel==2.18.0->tensorflow) (0.2.0)\n",
      "Requirement already satisfied: libclang>=13.0.0 in c:\\users\\banke\\anaconda3\\lib\\site-packages (from tensorflow-intel==2.18.0->tensorflow) (18.1.1)\n",
      "Requirement already satisfied: opt-einsum>=2.3.2 in c:\\users\\banke\\anaconda3\\lib\\site-packages (from tensorflow-intel==2.18.0->tensorflow) (3.4.0)\n",
      "Requirement already satisfied: packaging in c:\\users\\banke\\anaconda3\\lib\\site-packages (from tensorflow-intel==2.18.0->tensorflow) (24.1)\n",
      "Requirement already satisfied: protobuf!=4.21.0,!=4.21.1,!=4.21.2,!=4.21.3,!=4.21.4,!=4.21.5,<6.0.0dev,>=3.20.3 in c:\\users\\banke\\anaconda3\\lib\\site-packages (from tensorflow-intel==2.18.0->tensorflow) (4.25.3)\n",
      "Requirement already satisfied: requests<3,>=2.21.0 in c:\\users\\banke\\anaconda3\\lib\\site-packages (from tensorflow-intel==2.18.0->tensorflow) (2.32.3)\n",
      "Requirement already satisfied: setuptools in c:\\users\\banke\\anaconda3\\lib\\site-packages (from tensorflow-intel==2.18.0->tensorflow) (75.1.0)\n",
      "Requirement already satisfied: six>=1.12.0 in c:\\users\\banke\\anaconda3\\lib\\site-packages (from tensorflow-intel==2.18.0->tensorflow) (1.16.0)\n",
      "Requirement already satisfied: termcolor>=1.1.0 in c:\\users\\banke\\anaconda3\\lib\\site-packages (from tensorflow-intel==2.18.0->tensorflow) (2.5.0)\n",
      "Requirement already satisfied: typing-extensions>=3.6.6 in c:\\users\\banke\\anaconda3\\lib\\site-packages (from tensorflow-intel==2.18.0->tensorflow) (4.11.0)\n",
      "Requirement already satisfied: wrapt>=1.11.0 in c:\\users\\banke\\anaconda3\\lib\\site-packages (from tensorflow-intel==2.18.0->tensorflow) (1.14.1)\n",
      "Requirement already satisfied: grpcio<2.0,>=1.24.3 in c:\\users\\banke\\anaconda3\\lib\\site-packages (from tensorflow-intel==2.18.0->tensorflow) (1.70.0)\n",
      "Requirement already satisfied: tensorboard<2.19,>=2.18 in c:\\users\\banke\\anaconda3\\lib\\site-packages (from tensorflow-intel==2.18.0->tensorflow) (2.18.0)\n",
      "Requirement already satisfied: keras>=3.5.0 in c:\\users\\banke\\anaconda3\\lib\\site-packages (from tensorflow-intel==2.18.0->tensorflow) (3.8.0)\n",
      "Requirement already satisfied: numpy<2.1.0,>=1.26.0 in c:\\users\\banke\\anaconda3\\lib\\site-packages (from tensorflow-intel==2.18.0->tensorflow) (1.26.4)\n",
      "Requirement already satisfied: h5py>=3.11.0 in c:\\users\\banke\\anaconda3\\lib\\site-packages (from tensorflow-intel==2.18.0->tensorflow) (3.11.0)\n",
      "Requirement already satisfied: ml-dtypes<0.5.0,>=0.4.0 in c:\\users\\banke\\anaconda3\\lib\\site-packages (from tensorflow-intel==2.18.0->tensorflow) (0.4.1)\n",
      "Requirement already satisfied: wheel<1.0,>=0.23.0 in c:\\users\\banke\\anaconda3\\lib\\site-packages (from astunparse>=1.6.0->tensorflow-intel==2.18.0->tensorflow) (0.44.0)\n",
      "Requirement already satisfied: rich in c:\\users\\banke\\anaconda3\\lib\\site-packages (from keras>=3.5.0->tensorflow-intel==2.18.0->tensorflow) (13.7.1)\n",
      "Requirement already satisfied: namex in c:\\users\\banke\\anaconda3\\lib\\site-packages (from keras>=3.5.0->tensorflow-intel==2.18.0->tensorflow) (0.0.8)\n",
      "Requirement already satisfied: optree in c:\\users\\banke\\anaconda3\\lib\\site-packages (from keras>=3.5.0->tensorflow-intel==2.18.0->tensorflow) (0.14.0)\n",
      "Requirement already satisfied: charset-normalizer<4,>=2 in c:\\users\\banke\\anaconda3\\lib\\site-packages (from requests<3,>=2.21.0->tensorflow-intel==2.18.0->tensorflow) (3.3.2)\n",
      "Requirement already satisfied: idna<4,>=2.5 in c:\\users\\banke\\anaconda3\\lib\\site-packages (from requests<3,>=2.21.0->tensorflow-intel==2.18.0->tensorflow) (3.7)\n",
      "Requirement already satisfied: urllib3<3,>=1.21.1 in c:\\users\\banke\\anaconda3\\lib\\site-packages (from requests<3,>=2.21.0->tensorflow-intel==2.18.0->tensorflow) (2.2.3)\n",
      "Requirement already satisfied: certifi>=2017.4.17 in c:\\users\\banke\\anaconda3\\lib\\site-packages (from requests<3,>=2.21.0->tensorflow-intel==2.18.0->tensorflow) (2024.12.14)\n",
      "Requirement already satisfied: markdown>=2.6.8 in c:\\users\\banke\\anaconda3\\lib\\site-packages (from tensorboard<2.19,>=2.18->tensorflow-intel==2.18.0->tensorflow) (3.4.1)\n",
      "Requirement already satisfied: tensorboard-data-server<0.8.0,>=0.7.0 in c:\\users\\banke\\anaconda3\\lib\\site-packages (from tensorboard<2.19,>=2.18->tensorflow-intel==2.18.0->tensorflow) (0.7.2)\n",
      "Requirement already satisfied: werkzeug>=1.0.1 in c:\\users\\banke\\anaconda3\\lib\\site-packages (from tensorboard<2.19,>=2.18->tensorflow-intel==2.18.0->tensorflow) (3.0.3)\n",
      "Requirement already satisfied: MarkupSafe>=2.1.1 in c:\\users\\banke\\anaconda3\\lib\\site-packages (from werkzeug>=1.0.1->tensorboard<2.19,>=2.18->tensorflow-intel==2.18.0->tensorflow) (2.1.3)\n",
      "Requirement already satisfied: markdown-it-py>=2.2.0 in c:\\users\\banke\\anaconda3\\lib\\site-packages (from rich->keras>=3.5.0->tensorflow-intel==2.18.0->tensorflow) (2.2.0)\n",
      "Requirement already satisfied: pygments<3.0.0,>=2.13.0 in c:\\users\\banke\\anaconda3\\lib\\site-packages (from rich->keras>=3.5.0->tensorflow-intel==2.18.0->tensorflow) (2.15.1)\n",
      "Requirement already satisfied: mdurl~=0.1 in c:\\users\\banke\\anaconda3\\lib\\site-packages (from markdown-it-py>=2.2.0->rich->keras>=3.5.0->tensorflow-intel==2.18.0->tensorflow) (0.1.0)\n"
     ]
    }
   ],
   "source": [
    "!pip install tensorflow\n"
   ]
  },
  {
   "cell_type": "markdown",
   "id": "b9bcf597-59d1-463e-b891-c1fe49d85e22",
   "metadata": {},
   "source": [
    "### Part 2: Creating and Training an AI Model\n",
    "#### Step 3: Load the MNIST Dataset"
   ]
  },
  {
   "cell_type": "code",
   "execution_count": 7,
   "id": "5d924416-98be-4cc7-9fae-a45cfbe4be1e",
   "metadata": {},
   "outputs": [],
   "source": [
    "import tensorflow as tf \n",
    "from tensorflow import keras\n",
    "from tensorflow.keras.datasets import mnist \n",
    "import numpy as np \n",
    "import matplotlib.pyplot as plt "
   ]
  },
  {
   "cell_type": "code",
   "execution_count": 8,
   "id": "519cf4ca-b249-4bde-bd99-3e88975538eb",
   "metadata": {},
   "outputs": [],
   "source": [
    "# Load MNIST dataset \n",
    "(x_train, y_train), (x_test, y_test) = mnist.load_data() \n",
    "\n",
    "# Normalize data (scale pixel values between 0 and 1) \n",
    "x_train, x_test = x_train / 255.0, x_test / 255.0 "
   ]
  },
  {
   "cell_type": "code",
   "execution_count": 9,
   "id": "dbb76d10-b50d-48ac-88bf-4c777c1ebcb8",
   "metadata": {},
   "outputs": [
    {
     "data": {
      "image/png": "[encoded data removed]",
      "text/plain": [
       "<Figure size 500x500 with 9 Axes>"
      ]
     },
     "metadata": {},
     "output_type": "display_data"
    }
   ],
   "source": [
    "# Show sample images \n",
    "plt.figure(figsize=(5,5)) \n",
    "for i in range(9): plt.subplot(3,3,i+1) \n",
    "plt.imshow(x_train[i], cmap=\"gray\") \n",
    "plt.axis('off') \n",
    "plt.show()"
   ]
  },
  {
   "cell_type": "markdown",
   "id": "7130b7be-d7eb-4eeb-b24c-1ad8d5c32f94",
   "metadata": {},
   "source": [
    "#### Step 4: Define and Train a Neural Network\n",
    "##### Create a simple feedforward neural network using Keras:"
   ]
  },
  {
   "cell_type": "code",
   "execution_count": 11,
   "id": "e0d696bc-969c-4383-830b-6c827b37ad0f",
   "metadata": {},
   "outputs": [],
   "source": [
    "# Define model architecture \n",
    "model = tf.keras.models.Sequential([\n",
    "    tf.keras.layers.Flatten(),  # Input layer \n",
    "    tf.keras.layers.Dense(128, activation='relu'),  # Hidden layer\n",
    "    tf.keras.layers.Dense(10, activation='softmax') # Output layer (10 classes)\n",
    "])"
   ]
  },
  {
   "cell_type": "code",
   "execution_count": 12,
   "id": "622f23ad-0937-45fc-9a4b-fdfaa9d9f767",
   "metadata": {},
   "outputs": [],
   "source": [
    "# Compile model \n",
    "model.compile(optimizer='adam', loss='sparse_categorical_crossentropy', metrics=['accuracy']) \n"
   ]
  },
  {
   "cell_type": "code",
   "execution_count": 13,
   "id": "55b989da-890f-4979-9325-78a2e9776611",
   "metadata": {},
   "outputs": [
    {
     "name": "stdout",
     "output_type": "stream",
     "text": [
      "Epoch 1/5\n",
      "\u001b[1m1875/1875\u001b[0m \u001b[32m━━━━━━━━━━━━━━━━━━━━\u001b[0m\u001b[37m\u001b[0m \u001b[1m4s\u001b[0m 1ms/step - accuracy: 0.8757 - loss: 0.4398 - val_accuracy: 0.9590 - val_loss: 0.1415\n",
      "Epoch 2/5\n",
      "\u001b[1m1875/1875\u001b[0m \u001b[32m━━━━━━━━━━━━━━━━━━━━\u001b[0m\u001b[37m\u001b[0m \u001b[1m3s\u001b[0m 2ms/step - accuracy: 0.9642 - loss: 0.1233 - val_accuracy: 0.9699 - val_loss: 0.1016\n",
      "Epoch 3/5\n",
      "\u001b[1m1875/1875\u001b[0m \u001b[32m━━━━━━━━━━━━━━━━━━━━\u001b[0m\u001b[37m\u001b[0m \u001b[1m3s\u001b[0m 2ms/step - accuracy: 0.9773 - loss: 0.0777 - val_accuracy: 0.9718 - val_loss: 0.0929\n",
      "Epoch 4/5\n",
      "\u001b[1m1875/1875\u001b[0m \u001b[32m━━━━━━━━━━━━━━━━━━━━\u001b[0m\u001b[37m\u001b[0m \u001b[1m3s\u001b[0m 1ms/step - accuracy: 0.9824 - loss: 0.0576 - val_accuracy: 0.9758 - val_loss: 0.0793\n",
      "Epoch 5/5\n",
      "\u001b[1m1875/1875\u001b[0m \u001b[32m━━━━━━━━━━━━━━━━━━━━\u001b[0m\u001b[37m\u001b[0m \u001b[1m3s\u001b[0m 1ms/step - accuracy: 0.9873 - loss: 0.0442 - val_accuracy: 0.9745 - val_loss: 0.0826\n"
     ]
    },
    {
     "data": {
      "text/plain": [
       "<keras.src.callbacks.history.History at 0x1a6023de720>"
      ]
     },
     "execution_count": 13,
     "metadata": {},
     "output_type": "execute_result"
    }
   ],
   "source": [
    "# Train model \n",
    "model.fit(x_train, y_train, epochs=5, validation_data=(x_test, y_test)) \n"
   ]
  },
  {
   "cell_type": "code",
   "execution_count": 14,
   "id": "35d76236-6667-45a2-b91b-96ed360adf48",
   "metadata": {},
   "outputs": [],
   "source": [
    "# Save trained model \n",
    "model.save(\"mnist_model.keras\", include_optimizer=False)"
   ]
  },
  {
   "cell_type": "code",
   "execution_count": 15,
   "id": "7110b3d8-9bda-4430-ab09-a8e29b66f592",
   "metadata": {},
   "outputs": [
    {
     "name": "stdout",
     "output_type": "stream",
     "text": [
      "Model training complete and saved as mnist_model.keras\n"
     ]
    }
   ],
   "source": [
    "print(\"Model training complete and saved as mnist_model.keras\")"
   ]
  },
  {
   "cell_type": "markdown",
   "id": "407328e7-e7d8-43c0-be9a-6d9e9c3b08e9",
   "metadata": {},
   "source": [
    "### Part 3: Converting and Saving the Model\n",
    "#### Step 5: Convert the Model to TensorFlow Lite Format"
   ]
  },
  {
   "cell_type": "code",
   "execution_count": 17,
   "id": "59b30d5a-ade9-4781-a694-88a7941c5964",
   "metadata": {},
   "outputs": [],
   "source": [
    "# Load trained model \n",
    "model = tf.keras.models.load_model(\"mnist_model.keras\") "
   ]
  },
  {
   "cell_type": "code",
   "execution_count": 18,
   "id": "edac4e9a-ea7e-467b-9afd-9ee8bca67d66",
   "metadata": {},
   "outputs": [
    {
     "name": "stdout",
     "output_type": "stream",
     "text": [
      "INFO:tensorflow:Assets written to: C:\\Users\\banke\\AppData\\Local\\Temp\\tmpsqyle83q\\assets\n"
     ]
    },
    {
     "name": "stderr",
     "output_type": "stream",
     "text": [
      "INFO:tensorflow:Assets written to: C:\\Users\\banke\\AppData\\Local\\Temp\\tmpsqyle83q\\assets\n"
     ]
    },
    {
     "name": "stdout",
     "output_type": "stream",
     "text": [
      "Saved artifact at 'C:\\Users\\banke\\AppData\\Local\\Temp\\tmpsqyle83q'. The following endpoints are available:\n",
      "\n",
      "* Endpoint 'serve'\n",
      "  args_0 (POSITIONAL_ONLY): TensorSpec(shape=(32, 28, 28), dtype=tf.float32, name='input_layer')\n",
      "Output Type:\n",
      "  TensorSpec(shape=(32, 10), dtype=tf.float32, name=None)\n",
      "Captures:\n",
      "  1812514052944: TensorSpec(shape=(), dtype=tf.resource, name=None)\n",
      "  1812514047952: TensorSpec(shape=(), dtype=tf.resource, name=None)\n",
      "  1812514048528: TensorSpec(shape=(), dtype=tf.resource, name=None)\n",
      "  1812514051600: TensorSpec(shape=(), dtype=tf.resource, name=None)\n"
     ]
    }
   ],
   "source": [
    "# Convert to TensorFlow Lite \n",
    "converter = tf.lite.TFLiteConverter.from_keras_model(model) \n",
    "tflite_model = converter.convert() \n"
   ]
  },
  {
   "cell_type": "code",
   "execution_count": 19,
   "id": "44098a12-3b13-423e-9c12-64150a2ccb40",
   "metadata": {},
   "outputs": [],
   "source": [
    "# Save the converted model \n",
    "with open(\"mnist_model.tflite\", \"wb\") as f: \n",
    "    f.write(tflite_model)     "
   ]
  },
  {
   "cell_type": "code",
   "execution_count": 20,
   "id": "2a7fdb4e-2080-47c4-a25a-04e1e8917f03",
   "metadata": {},
   "outputs": [
    {
     "name": "stdout",
     "output_type": "stream",
     "text": [
      "Model successfully converted and saved as mnist_model.tflite\n"
     ]
    }
   ],
   "source": [
    "print(\"Model successfully converted and saved as mnist_model.tflite\")"
   ]
  },
  {
   "cell_type": "markdown",
   "id": "eea0bf00-07b0-4be6-8333-9343bc719227",
   "metadata": {},
   "source": [
    "### Part 4: Loading and Running Inference with TensorFlow Lite\n",
    "#### Step 6: Load the Converted Model Using TensorFlow Lite Interpreter"
   ]
  },
  {
   "cell_type": "code",
   "execution_count": 22,
   "id": "bd725c6d-c0ae-40dc-942d-0f566ecb2044",
   "metadata": {},
   "outputs": [],
   "source": [
    "# Load TensorFlow Lite model \n",
    "interpreter = tf.lite.Interpreter(model_path=\"mnist_model.tflite\") \n",
    "interpreter.allocate_tensors() "
   ]
  },
  {
   "cell_type": "code",
   "execution_count": 23,
   "id": "f3e21f21-a45c-46f9-bd6c-8a06538da916",
   "metadata": {},
   "outputs": [],
   "source": [
    "# Get input and output tensor details \n",
    "input_details = interpreter.get_input_details() \n",
    "output_details = interpreter.get_output_details() \n"
   ]
  },
  {
   "cell_type": "code",
   "execution_count": 24,
   "id": "020cbbdf-37aa-413f-a12f-d79c65f17cea",
   "metadata": {},
   "outputs": [
    {
     "name": "stdout",
     "output_type": "stream",
     "text": [
      "Input Details: [{'name': 'serving_default_input_layer:0', 'index': 0, 'shape': array([32, 28, 28]), 'shape_signature': array([32, 28, 28]), 'dtype': <class 'numpy.float32'>, 'quantization': (0.0, 0), 'quantization_parameters': {'scales': array([], dtype=float32), 'zero_points': array([], dtype=int32), 'quantized_dimension': 0}, 'sparsity_parameters': {}}]\n"
     ]
    }
   ],
   "source": [
    "print(\"Input Details:\", input_details)"
   ]
  },
  {
   "cell_type": "code",
   "execution_count": 25,
   "id": "9f25f70e-2594-442f-8d4d-76086f83885e",
   "metadata": {},
   "outputs": [
    {
     "name": "stdout",
     "output_type": "stream",
     "text": [
      "Output Details: [{'name': 'StatefulPartitionedCall_1:0', 'index': 9, 'shape': array([32, 10]), 'shape_signature': array([32, 10]), 'dtype': <class 'numpy.float32'>, 'quantization': (0.0, 0), 'quantization_parameters': {'scales': array([], dtype=float32), 'zero_points': array([], dtype=int32), 'quantized_dimension': 0}, 'sparsity_parameters': {}}]\n"
     ]
    }
   ],
   "source": [
    "print(\"Output Details:\", output_details)"
   ]
  },
  {
   "cell_type": "markdown",
   "id": "615cc535-de49-41a6-846d-f00396494841",
   "metadata": {},
   "source": [
    "#### Step 7: Perform Inference with TensorFlow Lite"
   ]
  },
  {
   "cell_type": "code",
   "execution_count": 27,
   "id": "ecc1b56b-2fda-481c-b876-27ab0fd394e3",
   "metadata": {},
   "outputs": [],
   "source": [
    "# Select a test image \n",
    "test_image = x_test[0].astype(np.float32) "
   ]
  },
  {
   "cell_type": "code",
   "execution_count": 28,
   "id": "66d0f60f-d91e-4940-8d82-2578a22f4b5c",
   "metadata": {},
   "outputs": [],
   "source": [
    "# Ensure data type matches model input\n",
    "test_image = np.expand_dims(test_image, axis=0)  # Add batch dimension (1, 28, 28)\n",
    "test_image = np.tile(test_image, (32, 1, 1))  # (32, 28, 28)\n",
    "# Convert to float32 (required for TensorFlow Lite)\n",
    "test_image = test_image.astype(np.float32)"
   ]
  },
  {
   "cell_type": "code",
   "execution_count": 29,
   "id": "55b8aa0e-4808-46cf-a6df-3cb10aa92558",
   "metadata": {
    "scrolled": true
   },
   "outputs": [
    {
     "name": "stdout",
     "output_type": "stream",
     "text": [
      "Expected input shape: [32 28 28]\n"
     ]
    }
   ],
   "source": [
    "print(\"Expected input shape:\", input_details[0]['shape'])"
   ]
  },
  {
   "cell_type": "code",
   "execution_count": 30,
   "id": "e6f7e26c-6abe-4ca9-bac4-e1e3f0138207",
   "metadata": {
    "scrolled": true
   },
   "outputs": [],
   "source": [
    "# Set the input tensor \n",
    "interpreter.set_tensor(input_details[0]['index'], test_image)"
   ]
  },
  {
   "cell_type": "code",
   "execution_count": 31,
   "id": "9c6a2d6a-751f-4f22-8eed-572b2d3d05a1",
   "metadata": {},
   "outputs": [],
   "source": [
    "# Run inference \n",
    "interpreter.invoke() "
   ]
  },
  {
   "cell_type": "code",
   "execution_count": 32,
   "id": "44896004-b6f9-45ab-be36-76f63f19f5c3",
   "metadata": {},
   "outputs": [],
   "source": [
    "# Get the prediction \n",
    "output_data = interpreter.get_tensor(output_details[0]['index']) \n",
    "predicted_label = np.argmax(output_data)"
   ]
  },
  {
   "cell_type": "code",
   "execution_count": 33,
   "id": "235ce888-ea98-4839-b5de-917b6c2905dd",
   "metadata": {},
   "outputs": [
    {
     "data": {
      "image/png": "[encoded data removed]",
      "text/plain": [
       "<Figure size 640x480 with 1 Axes>"
      ]
     },
     "metadata": {},
     "output_type": "display_data"
    }
   ],
   "source": [
    "# Display the image and prediction \n",
    "plt.imshow(x_test[0], cmap=\"gray\") \n",
    "plt.title(f\"Predicted Label: {predicted_label}, Actual Label: {y_test[0]}\") \n",
    "plt.show()"
   ]
  },
  {
   "cell_type": "code",
   "execution_count": null,
   "id": "19bf4eed-21ec-4cd6-b267-4e0cfbaa5d38",
   "metadata": {},
   "outputs": [],
   "source": []
  }
 ],
 "metadata": {
  "kernelspec": {
   "display_name": "Python [conda env:base] *",
   "language": "python",
   "name": "conda-base-py"
  },
  "language_info": {
   "codemirror_mode": {
    "name": "ipython",
    "version": 3
   },
   "file_extension": ".py",
   "mimetype": "text/x-python",
   "name": "python",
   "nbconvert_exporter": "python",
   "pygments_lexer": "ipython3",
   "version": "3.12.7"
  }
 },
 "nbformat": 4,
 "nbformat_minor": 5
}
